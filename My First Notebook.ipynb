{
 "cells": [
  {
   "cell_type": "markdown",
   "id": "dc22bfa1-c3d0-4702-9193-8fc860c7dde0",
   "metadata": {
    "jp-MarkdownHeadingCollapsed": true
   },
   "source": [
    "## My Learning in This Course"
   ]
  },
  {
   "cell_type": "markdown",
   "id": "b9033c3d-ada1-45a0-8c30-99510146bcab",
   "metadata": {},
   "source": [
    "## Introduction \n",
    "#### From the beginging of the Course I learned a lot about data science and Data Science tools and now at the end of this course I am familiar with the data science definition and what data scientists do, what tools are used in data science and which tools are used mostly by data scientists."
   ]
  },
  {
   "cell_type": "markdown",
   "id": "6392977a-ee92-4b43-8b56-85529e59e475",
   "metadata": {},
   "source": [
    "# **Learning Objectives:**\n",
    "* Introduction to Data Science Tools\n",
    "* Introduction to Data Science Libraries\n",
    "* Introduction to Python\n",
    "* Introdution to R\n",
    "* Introdution to SQL\n",
    "* Java\n",
    "* C++\n",
    "\n",
    "## Author:\n",
    "Anees ul Mujtaba"
   ]
  },
  {
   "cell_type": "markdown",
   "id": "2c946087-ed6e-4bcd-a314-b8a8b88164fa",
   "metadata": {},
   "source": [
    "#### Data Science languages:\n",
    "1. Python\n",
    "2. R\n",
    "3. SQL\n",
    "4. C++\n",
    "5. Java"
   ]
  },
  {
   "cell_type": "markdown",
   "id": "3c16e9a5-1c8a-4bc8-9a4a-fb37caa01657",
   "metadata": {},
   "source": [
    "#### Libraries used by Data Scientists include:\n",
    "1. NumPy\n",
    "2. Pandas\n",
    "3. Scipy\n",
    "4. Matpotlib"
   ]
  },
  {
   "cell_type": "markdown",
   "id": "481fab8d-85ef-4d09-9ab4-06962ef92799",
   "metadata": {},
   "source": [
    "|Data Science Tools|\n",
    "|------------------|\n",
    "|Jupyter Notebook|\n",
    "|NumPy|          \n",
    "|R Studio|\n",
    "|GitHub|\n",
    "|TensorFlow|\n",
    "|Apache Hadoop|\n",
    "|Apache Spark|\n",
    "--------"
   ]
  },
  {
   "cell_type": "code",
   "execution_count": 6,
   "id": "84688cba-4692-40d1-895f-b157e6dfa271",
   "metadata": {},
   "outputs": [
    {
     "name": "stdout",
     "output_type": "stream",
     "text": [
      "Arithmetic expression examples\n"
     ]
    },
    {
     "data": {
      "text/plain": [
       "17"
      ]
     },
     "execution_count": 6,
     "metadata": {},
     "output_type": "execute_result"
    }
   ],
   "source": [
    "print('Arithmetic expression examples')\n",
    "(3*4)+5"
   ]
  },
  {
   "cell_type": "code",
   "execution_count": 11,
   "id": "dab2a879-b85f-49c6-8ba8-bc572f5fadc1",
   "metadata": {},
   "outputs": [
    {
     "data": {
      "text/plain": [
       "15"
      ]
     },
     "execution_count": 11,
     "metadata": {},
     "output_type": "execute_result"
    }
   ],
   "source": [
    "3*5"
   ]
  },
  {
   "cell_type": "code",
   "execution_count": 12,
   "id": "59583d8c-e0e2-4bff-bb55-9c337b9de1f4",
   "metadata": {},
   "outputs": [
    {
     "data": {
      "text/plain": [
       "2.5"
      ]
     },
     "execution_count": 12,
     "metadata": {},
     "output_type": "execute_result"
    }
   ],
   "source": [
    "20/8"
   ]
  },
  {
   "cell_type": "code",
   "execution_count": 14,
   "id": "11ac44cd-70a9-40af-be42-5878bcdef1cd",
   "metadata": {},
   "outputs": [
    {
     "name": "stdout",
     "output_type": "stream",
     "text": [
      "multiply and add numbers\n"
     ]
    },
    {
     "data": {
      "text/plain": [
       "23"
      ]
     },
     "execution_count": 14,
     "metadata": {},
     "output_type": "execute_result"
    }
   ],
   "source": [
    "print('multiply and add numbers')\n",
    "(3*5)+8"
   ]
  },
  {
   "cell_type": "code",
   "execution_count": 15,
   "id": "82dd501e-fd11-45fa-8661-15172f2cd079",
   "metadata": {},
   "outputs": [
    {
     "name": "stdout",
     "output_type": "stream",
     "text": [
      "This will convert 200 minutes to hours by diving by 60\n"
     ]
    },
    {
     "data": {
      "text/plain": [
       "3.3333333333333335"
      ]
     },
     "execution_count": 15,
     "metadata": {},
     "output_type": "execute_result"
    }
   ],
   "source": [
    "print('This will convert 200 minutes to hours by diving by 60')\n",
    "200/60"
   ]
  },
  {
   "cell_type": "code",
   "execution_count": null,
   "id": "39474be5-9af3-464e-bf93-395c3abbca30",
   "metadata": {},
   "outputs": [],
   "source": []
  }
 ],
 "metadata": {
  "kernelspec": {
   "display_name": "Python 3 (ipykernel)",
   "language": "python",
   "name": "python3"
  },
  "language_info": {
   "codemirror_mode": {
    "name": "ipython",
    "version": 3
   },
   "file_extension": ".py",
   "mimetype": "text/x-python",
   "name": "python",
   "nbconvert_exporter": "python",
   "pygments_lexer": "ipython3",
   "version": "3.12.8"
  }
 },
 "nbformat": 4,
 "nbformat_minor": 5
}
