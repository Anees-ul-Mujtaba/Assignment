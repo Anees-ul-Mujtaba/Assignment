{
 "cells": [
  {
   "cell_type": "markdown",
   "id": "b25b7c86-e912-49e8-acba-9146d6c42ab5",
   "metadata": {},
   "source": [
    "# Data Science Tools and Ecosystem"
   ]
  },
  {
   "cell_type": "markdown",
   "id": "14b31e36-e6b4-4a63-a368-53e836dbc047",
   "metadata": {},
   "source": [
    "### In this notebook, Data Science Tools and Ecosystem are summarized."
   ]
  },
  {
   "cell_type": "markdown",
   "id": "89c72d9a-d8bc-4155-a9cd-c4e2791071a4",
   "metadata": {},
   "source": [
    "# **Objectives:**\n",
    "* Introduction to Python\n",
    "* Introdution to R\n",
    "* Introdution to SQL\n",
    "* Java\n",
    "* C++\n",
    "\n",
    "## Author:\n",
    "Anees ul Mujtaba"
   ]
  },
  {
   "cell_type": "markdown",
   "id": "3e4bf2d2-d286-47f2-b775-6835c4aeb0b4",
   "metadata": {},
   "source": [
    "1. Python\n",
    "2. R\n",
    "3. SQL\n",
    "4. C++\n",
    "5. Java\n"
   ]
  },
  {
   "cell_type": "markdown",
   "id": "198421c7-b333-4709-a5eb-72cd4c51b5c8",
   "metadata": {
    "jp-MarkdownHeadingCollapsed": true
   },
   "source": [
    "##### Some of the commonly used libraries used by Data Scientists include:\n",
    "1. NumPy\n",
    "2. Panda\n",
    "3. Scipy\n",
    "4. Matpotlib"
   ]
  },
  {
   "cell_type": "markdown",
   "id": "838941cb-2088-4244-994e-4e796fab0926",
   "metadata": {},
   "source": [
    "|Data Science Tools|\n",
    "|------------------|\n",
    "|Jupyter Notebook|\n",
    "|NumPy|          \n",
    "|R Studio|\n",
    "|GitHub|\n",
    "--------"
   ]
  },
  {
   "cell_type": "markdown",
   "id": "ac4f799a-3748-495a-9eb0-44d8843b8ea3",
   "metadata": {},
   "source": [
    "### Below are a few examples of evaluating arithmetic expressions in Python."
   ]
  },
  {
   "cell_type": "markdown",
   "id": "1dada528-e261-45ed-9327-04df36972b6b",
   "metadata": {},
   "source": []
  },
  {
   "cell_type": "code",
   "execution_count": 11,
   "id": "5cb61c76-3e56-43dc-8599-011b692d5bd2",
   "metadata": {},
   "outputs": [
    {
     "name": "stdout",
     "output_type": "stream",
     "text": [
      "This a simple arithmetic expression to mutiply then add integers\n"
     ]
    },
    {
     "data": {
      "text/plain": [
       "17"
      ]
     },
     "execution_count": 11,
     "metadata": {},
     "output_type": "execute_result"
    }
   ],
   "source": [
    "print(\"This a simple arithmetic expression to mutiply then add integers\")\n",
    "(3*4)+5"
   ]
  },
  {
   "cell_type": "code",
   "execution_count": 14,
   "id": "e93bb852-b5b0-4e11-b93c-da9c62cb1abb",
   "metadata": {},
   "outputs": [
    {
     "name": "stdout",
     "output_type": "stream",
     "text": [
      "This will convert 200 minutes to hours by diving by 60\n"
     ]
    },
    {
     "data": {
      "text/plain": [
       "3.3333333333333335"
      ]
     },
     "execution_count": 14,
     "metadata": {},
     "output_type": "execute_result"
    }
   ],
   "source": [
    "print('This will convert 200 minutes to hours by diving by 60')\n",
    "200/60"
   ]
  }
 ],
 "metadata": {
  "kernelspec": {
   "display_name": "Python 3 (ipykernel)",
   "language": "python",
   "name": "python3"
  },
  "language_info": {
   "codemirror_mode": {
    "name": "ipython",
    "version": 3
   },
   "file_extension": ".py",
   "mimetype": "text/x-python",
   "name": "python",
   "nbconvert_exporter": "python",
   "pygments_lexer": "ipython3",
   "version": "3.12.8"
  }
 },
 "nbformat": 4,
 "nbformat_minor": 5
}
